{
 "cells": [
  {
   "cell_type": "code",
   "execution_count": 1,
   "id": "a03ba4a7",
   "metadata": {},
   "outputs": [
    {
     "name": "stderr",
     "output_type": "stream",
     "text": [
      "c:\\Users\\toer2\\AppData\\Local\\Programs\\Python\\Python310\\lib\\site-packages\\tqdm\\auto.py:21: TqdmWarning: IProgress not found. Please update jupyter and ipywidgets. See https://ipywidgets.readthedocs.io/en/stable/user_install.html\n",
      "  from .autonotebook import tqdm as notebook_tqdm\n"
     ]
    }
   ],
   "source": [
    "from transformers import AutoModelForCausalLM, AutoTokenizer, pipeline\n",
    "import torch\n",
    "from multObjGenContext import *\n",
    "from multObjGenFunctions import *"
   ]
  },
  {
   "cell_type": "code",
   "execution_count": 2,
   "id": "115ef7ba",
   "metadata": {},
   "outputs": [
    {
     "name": "stderr",
     "output_type": "stream",
     "text": [
      "c:\\Users\\toer2\\AppData\\Local\\Programs\\Python\\Python310\\lib\\site-packages\\huggingface_hub\\file_download.py:1132: FutureWarning: `resume_download` is deprecated and will be removed in version 1.0.0. Downloads always resume when possible. If you want to force a new download, use `force_download=True`.\n",
      "  warnings.warn(\n",
      "CUDA extension not installed.\n",
      "CUDA extension not installed.\n",
      "c:\\Users\\toer2\\AppData\\Local\\Programs\\Python\\Python310\\lib\\site-packages\\transformers\\modeling_utils.py:4371: FutureWarning: `_is_quantized_training_enabled` is going to be deprecated in transformers 4.39.0. Please use `model.hf_quantizer.is_trainable` instead\n",
      "  warnings.warn(\n",
      "The cos_cached attribute will be removed in 4.39. Bear in mind that its contents changed in v4.38. Use the forward method of RoPE from now on instead. It is not used in the `LlamaAttention` class\n",
      "The sin_cached attribute will be removed in 4.39. Bear in mind that its contents changed in v4.38. Use the forward method of RoPE from now on instead. It is not used in the `LlamaAttention` class\n",
      "c:\\Users\\toer2\\AppData\\Local\\Programs\\Python\\Python310\\lib\\site-packages\\huggingface_hub\\file_download.py:1132: FutureWarning: `resume_download` is deprecated and will be removed in version 1.0.0. Downloads always resume when possible. If you want to force a new download, use `force_download=True`.\n",
      "  warnings.warn(\n"
     ]
    }
   ],
   "source": [
    "model_name_or_path = \"TheBloke/TinyLlama-1.1B-Chat-v1.0-GPTQ\"\n",
    "model = AutoModelForCausalLM.from_pretrained(model_name_or_path, device_map=\"cuda\", trust_remote_code=False, revision=\"main\")\n",
    "tokenizer = AutoTokenizer.from_pretrained(model_name_or_path, use_fast=True)"
   ]
  },
  {
   "cell_type": "code",
   "execution_count": 3,
   "id": "c11fad60",
   "metadata": {},
   "outputs": [],
   "source": [
    "pipe = pipeline(\n",
    "    \"text-generation\",\n",
    "    model=model,\n",
    "    tokenizer=tokenizer,\n",
    "    max_new_tokens=50,\n",
    "    do_sample=True,\n",
    "    temperature=0.7,\n",
    "    top_p=0.95,\n",
    "    top_k=40,\n",
    "    repetition_penalty=1.1\n",
    ")"
   ]
  },
  {
   "cell_type": "code",
   "execution_count": 4,
   "id": "6e74c5db",
   "metadata": {},
   "outputs": [],
   "source": [
    "object_list_assistant = ObjectListAssistant(pipe, objlist_context)\n",
    "relational_mapping_assistant = RelationalMappingAssistant(pipe, relational_context)\n",
    "grid_placement_assistant = GridPlacementAssistant(pipe, grid_context)"
   ]
  },
  {
   "cell_type": "code",
   "execution_count": 5,
   "id": "769a9962",
   "metadata": {},
   "outputs": [],
   "source": [
    "def multObjGen(prompt):\n",
    "    # 1 - prompt -> objectlist (str)\n",
    "    object_list_raw = object_list_assistant.process_request(prompt)\n",
    "    print(object_list_raw)\n",
    "\n",
    "    # 2 - objectlist (str) -> setName (str), objectList (list)\n",
    "    set_name, object_list = parse_complete_prompt(object_list_raw)\n",
    "\n",
    "    # 3 - objectlist (list) -> relationsList (str)\n",
    "    relations = relational_mapping_assistant.process_request(object_list)\n",
    "    print(\"\\n\"+relations)\n",
    "\n",
    "    # 4 - relationsList (str) -> objectCoordinateList (str)\n",
    "    coordinates_raw = grid_placement_assistant.process_request(relations)\n",
    "    print(\"\\n\"+coordinates_raw)\n",
    "\n",
    "    # 5 objectCoordinateList (str) -> coordinateDict (dict)\n",
    "    coordinates = parse_coordinates(coordinates_raw)\n",
    "    print(\"\\n\"+coordinates)\n",
    "\n",
    "    # Visual\n",
    "    grid = place_objects_on_grid(coordinates, grid_size=20)\n",
    "    print_grid\n",
    "\n",
    "    return coordinates"
   ]
  },
  {
   "cell_type": "markdown",
   "id": "accb9777",
   "metadata": {},
   "source": [
    "-----------------\n",
    "TESTING\n"
   ]
  },
  {
   "cell_type": "markdown",
   "id": "930f21fd",
   "metadata": {},
   "source": [
    "Full Pipeline\n",
    "\n",
    "Often crahes at #3"
   ]
  },
  {
   "cell_type": "code",
   "execution_count": 6,
   "id": "9aecdbe3",
   "metadata": {},
   "outputs": [
    {
     "name": "stdout",
     "output_type": "stream",
     "text": [
      "Assistant: PC setup, Objects: Desktop, Monitor, Mouse, Keyboard, Office Chair\n",
      "Error parsing\n"
     ]
    },
    {
     "ename": "AttributeError",
     "evalue": "'NoneType' object has no attribute 'group'",
     "output_type": "error",
     "traceback": [
      "\u001b[1;31m---------------------------------------------------------------------------\u001b[0m",
      "\u001b[1;31mAttributeError\u001b[0m                            Traceback (most recent call last)",
      "Cell \u001b[1;32mIn[6], line 16\u001b[0m\n\u001b[0;32m      1\u001b[0m test_cases_MOG \u001b[38;5;241m=\u001b[39m [\n\u001b[0;32m      2\u001b[0m     \u001b[38;5;124m\"\u001b[39m\u001b[38;5;124mComplete a pc setup\u001b[39m\u001b[38;5;124m\"\u001b[39m\n\u001b[0;32m      3\u001b[0m     \u001b[38;5;124m\"\u001b[39m\u001b[38;5;124mComplete a kitchen setup\u001b[39m\u001b[38;5;124m\"\u001b[39m,\n\u001b[1;32m   (...)\u001b[0m\n\u001b[0;32m     12\u001b[0m     \u001b[38;5;124m\"\u001b[39m\u001b[38;5;124mComplete a science lab workspace\u001b[39m\u001b[38;5;124m\"\u001b[39m\n\u001b[0;32m     13\u001b[0m ]\n\u001b[0;32m     15\u001b[0m \u001b[38;5;28;01mfor\u001b[39;00m prompt \u001b[38;5;129;01min\u001b[39;00m test_cases_MOG:\n\u001b[1;32m---> 16\u001b[0m     \u001b[38;5;28mprint\u001b[39m(\u001b[43mmultObjGen\u001b[49m\u001b[43m(\u001b[49m\u001b[43mprompt\u001b[49m\u001b[43m)\u001b[49m)\n",
      "Cell \u001b[1;32mIn[5], line 7\u001b[0m, in \u001b[0;36mmultObjGen\u001b[1;34m(prompt)\u001b[0m\n\u001b[0;32m      4\u001b[0m \u001b[38;5;28mprint\u001b[39m(object_list_raw)\n\u001b[0;32m      6\u001b[0m \u001b[38;5;66;03m# 2 - objectlist (str) -> setName (str), objectList (list)\u001b[39;00m\n\u001b[1;32m----> 7\u001b[0m set_name, object_list \u001b[38;5;241m=\u001b[39m \u001b[43mparse_complete_prompt\u001b[49m\u001b[43m(\u001b[49m\u001b[43mobject_list_raw\u001b[49m\u001b[43m)\u001b[49m\n\u001b[0;32m      9\u001b[0m \u001b[38;5;66;03m# 3 - objectlist (list) -> relationsList (str)\u001b[39;00m\n\u001b[0;32m     10\u001b[0m relations \u001b[38;5;241m=\u001b[39m relational_mapping_assistant\u001b[38;5;241m.\u001b[39mprocess_request(object_list)\n",
      "File \u001b[1;32mc:\\Users\\toer2\\OneDrive - University College Dublin\\Trimester 8\\FYP\\_GITHUB FILES\\Testing\\multObjGenFunctions.py:13\u001b[0m, in \u001b[0;36mparse_complete_prompt\u001b[1;34m(prompt)\u001b[0m\n\u001b[0;32m     10\u001b[0m \u001b[38;5;28;01mif\u001b[39;00m \u001b[38;5;129;01mnot\u001b[39;00m match:\n\u001b[0;32m     11\u001b[0m     \u001b[38;5;28mprint\u001b[39m(\u001b[38;5;124m\"\u001b[39m\u001b[38;5;124mError parsing\u001b[39m\u001b[38;5;124m\"\u001b[39m)\n\u001b[1;32m---> 13\u001b[0m set_name \u001b[38;5;241m=\u001b[39m \u001b[43mmatch\u001b[49m\u001b[38;5;241;43m.\u001b[39;49m\u001b[43mgroup\u001b[49m(\u001b[38;5;241m1\u001b[39m)\u001b[38;5;241m.\u001b[39mstrip()\n\u001b[0;32m     14\u001b[0m object_list_raw \u001b[38;5;241m=\u001b[39m match\u001b[38;5;241m.\u001b[39mgroup(\u001b[38;5;241m2\u001b[39m)\u001b[38;5;241m.\u001b[39mstrip()\n\u001b[0;32m     16\u001b[0m object_list \u001b[38;5;241m=\u001b[39m [obj\u001b[38;5;241m.\u001b[39mstrip() \u001b[38;5;28;01mfor\u001b[39;00m obj \u001b[38;5;129;01min\u001b[39;00m object_list_raw\u001b[38;5;241m.\u001b[39msplit(\u001b[38;5;124m'\u001b[39m\u001b[38;5;124m,\u001b[39m\u001b[38;5;124m'\u001b[39m)]\n",
      "\u001b[1;31mAttributeError\u001b[0m: 'NoneType' object has no attribute 'group'"
     ]
    }
   ],
   "source": [
    "test_cases_MOG = [\n",
    "    \"Complete a pc setup\"\n",
    "    \"Complete a kitchen setup\",\n",
    "    \"Complete batman's utility belt\",\n",
    "    \"Complete american car set\",\n",
    "    \"Complete a medieval weapons set\",\n",
    "    \"Complete a bedroom setup\",\n",
    "    \"Complete a fruit bowl\",\n",
    "    \"Complete a pirate ship deck\",\n",
    "    \"Complete a modern living room setup\",\n",
    "    \"Complete a medieval marketplace\",\n",
    "    \"Complete a science lab workspace\"\n",
    "]\n",
    "\n",
    "for prompt in test_cases_MOG:\n",
    "    print(multObjGen(prompt))"
   ]
  },
  {
   "cell_type": "code",
   "execution_count": 7,
   "id": "409551fc",
   "metadata": {},
   "outputs": [
    {
     "name": "stdout",
     "output_type": "stream",
     "text": [
      "Assistant: Kitchen setup, Objects: sink, disposal unit, oven, microwave, refrigerator, countertop, stools, bar stool, dishwasher, garbage disposal, blender\n",
      "\n",
      "--------------------\n",
      "Response: batman's utility belt, Objects: belt buckle, zipper, whistle, shoehorn, hairbrush, brass knuckles, flashlight, carabiner, towel\n",
      "\n",
      "--------------------\n",
      "Complete: american car set, Objects: Ford F-150 pickup truck, GMC Sierra 1500 pickup truck, Dodge Charger muscle car, Chevrolet Corvette cou\n",
      "\n",
      "--------------------\n",
      "Complete: medieval weapons set, Objects: sword, shield, mace, helmet, chainmail, greaves, spear, dagger\n",
      "\n",
      "--------------------\n",
      "Complete: bedroom setup, Objects: bed, nightstand, lamp, dresser, wardrobe, chair\n",
      "\n",
      "--------------------\n",
      "Complete: fruit bowl, Objects: banana, apple, orange, grapefruit, peach, plum, pear, kiwi\n",
      "\n",
      "--------------------\n",
      "Assistant: Pirate ship deck, Objects: mast, rigging, sail, anchor, pennant, ropes, lantern, torch, coins (coin purse)\n",
      "\n",
      "--------------------\n",
      "Complete: modern living room setup, Objects: coffee table, sofa, armchair, coffee table lamp, side table, curtains, artwork on wall, plants on floor\n",
      "\n",
      "--------------------\n"
     ]
    },
    {
     "name": "stderr",
     "output_type": "stream",
     "text": [
      "You seem to be using the pipelines sequentially on GPU. In order to maximize efficiency please use a dataset\n"
     ]
    },
    {
     "name": "stdout",
     "output_type": "stream",
     "text": [
      "Complete: medieval marketplace, Objects: leather goods, silverware, pottery, linen, cloth, candlestick, basket, bowl, platter, coins, jewelry, armor, shield,\n",
      "\n",
      "--------------------\n",
      "Assistant: Science lab workspace, Objects: microscope, lab coat, testing equipment, chemical reagent, lab notebook, microscopic slides, temperature control unit, calibrated balance\n",
      "\n",
      "--------------------\n"
     ]
    }
   ],
   "source": [
    "test_cases_object_list = [\n",
    "    \"Complete a kitchen setup\",\n",
    "    \"Complete batman's utility belt\",\n",
    "    \"Complete american car set\",\n",
    "    \"Complete a medieval weapons set\",\n",
    "    \"Complete a bedroom setup\",\n",
    "    \"Complete a fruit bowl\",\n",
    "    \"Complete a pirate ship deck\",\n",
    "    \"Complete a modern living room setup\",\n",
    "    \"Complete a medieval marketplace\",\n",
    "    \"Complete a science lab workspace\"\n",
    "]\n",
    "\n",
    "for prompt in test_cases_object_list:\n",
    "    print(object_list_assistant.process_request(prompt))\n",
    "    print(\"\\n\" + \"-\"*20)"
   ]
  },
  {
   "cell_type": "code",
   "execution_count": 8,
   "id": "01fa1404",
   "metadata": {},
   "outputs": [
    {
     "name": "stdout",
     "output_type": "stream",
     "text": [
      "keyboard infrontof monitor, mouse totherightof keyboard, pc totherightof keyboard, speakers totherightof monitor, gamning chair totherightof monitor, rgb lights totherightof monitor, desk\n",
      "\n",
      "--------------------\n",
      "guitar infrontof amplifier, amplifier totherightof guitar, microphone totherightof amplifier\n",
      "amplifier infrontof music stand, music stand totherightof amplifier\n",
      "music stand infr\n",
      "\n",
      "--------------------\n",
      "pan infrontof stove, spatula totherightof pan, cutting board totherightof pan\n",
      "\n",
      "Note: This algorithm is only a suggestion. The exact rules for what constitutes a valid relation can vary depending on your\n",
      "\n",
      "--------------------\n",
      "Helmet: infrontof sword, armor totherightof helmet, shield totherightof sword\n",
      "Armor: totherightof sword, helmet totherightof armor, sword totherightof shield\n",
      "\n",
      "--------------------\n",
      "camera infrontof tripod, tripod totherightof camera, lens totherightof flash\n",
      "\n",
      "This code should handle all possible combinations and relationships between objects. If you have any questions about how the program operates, feel\n",
      "\n",
      "--------------------\n",
      "tree infrontof bench, tree totherightof tree, tree totherightof tree\n",
      "tree totherightof bench\n",
      "tree totherightof tree\n",
      "\n",
      "Note: Please provide test cases to ensure your program is working\n",
      "\n",
      "--------------------\n",
      "basketball hoop infrontof scoreboard, scoreboard totherightof basketball;\n",
      "hoop bleachers totherightof scoreboard\n",
      "bleachers scoreboard totherightof hoop\n",
      "\n",
      "--------------------\n",
      "train infrontof track, train totherightof track, ticket booth totherightof train\n",
      "\n",
      "--------------------\n",
      "object1 infrontof object2\n",
      "object2 totherightof object3\n",
      "object3 totheleftof object4\n",
      "object1 infrontof painting\n",
      "object2 totherightof paintbrush\n",
      "object3 tothe\n",
      "\n",
      "--------------------\n",
      "fish tank infrontof filter, filter totherightof fish tank, air pump totherightof filter, plants tothersideof filter\n",
      "\n",
      "Explanation:\n",
      "\n",
      "- The first input line specifies the first object (\n",
      "\n",
      "--------------------\n"
     ]
    }
   ],
   "source": [
    "test_cases_spatial = [\n",
    "    [\"keyboard\", \"monitor\", \"mouse\", \"pc\", \"speakers\", \"gamning chair\", \"rgb lights\", \"desk\", \"monitor\"],\n",
    "    [\"guitar\", \"amplifier\", \"microphone\", \"music stand\"],\n",
    "    [\"pan\", \"stove\", \"spatula\", \"cutting board\"],\n",
    "    [\"helmet\", \"armor\", \"sword\", \"shield\"],\n",
    "    [\"camera\", \"tripod\", \"lens\", \"flash\"],\n",
    "    [\"tree\", \"bench\", \"fountain\", \"lamp post\"],\n",
    "    [\"basketball\", \"hoop\", \"scoreboard\", \"bleachers\"],\n",
    "    [\"train\", \"track\", \"station\", \"ticket booth\"],\n",
    "    [\"painting\", \"easel\", \"paintbrush\", \"palette\"],\n",
    "    [\"fish tank\", \"filter\", \"air pump\", \"plants\"],\n",
    "]\n",
    "\n",
    "for objects in test_cases_spatial:\n",
    "    print(relational_mapping_assistant.process_request(objects))\n",
    "    print(\"\\n\" + \"-\"*20)"
   ]
  },
  {
   "cell_type": "code",
   "execution_count": 9,
   "id": "3ad043dd",
   "metadata": {},
   "outputs": [
    {
     "name": "stdout",
     "output_type": "stream",
     "text": [
      "keyboard (10, 10), monitor (10, 12), mouse (12, 10), pc (6, 12)\n",
      "\n",
      "--------------------\n",
      "guitar (10, 10), microphone (10, 12), music stand (12, 10), amplifier (7, 12)\n",
      "\n",
      "--------------------\n",
      "pan (10, 10), spatula (10, 10), cutting board (6, 12)\n",
      "\n",
      "--------------------\n",
      "helmet (10, 10), sword (10, 4), shield (10, 8), armor (7, 10)\n",
      "\n",
      "--------------------\n",
      "camera (10, 10), lens (10, 12), flash (12, 10)\n",
      "\n",
      "--------------------\n",
      "tree (10, 40), bench (30, 20), fountain (70, 60)\n",
      "\n",
      "--------------------\n",
      "scoreboard (10, 10), basketball (10, 4), hoop (10, 8), scoreboard (8, 10)\n",
      "\n",
      "--------------------\n",
      "train (4, 3), track (4, 7), ticket booth (1, 8)\n",
      "\n",
      "--------------------\n",
      "painting (3, 8), brush (4, 7), palette (6, 9)\n",
      "\n",
      "--------------------\n",
      "fish tank (10, 10), filter (10, 12), air pump (12, 10)\n",
      "\n",
      "--------------------\n"
     ]
    }
   ],
   "source": [
    "test_cases_coordinates = [\n",
    "    [\"keyboard infrontof monitor\", \"mouse totherightof keyboard\", \"pc totheleftof monitor\"],\n",
    "    [\"guitar infrontof amplifier\", \"microphone totherightof guitar\", \"music stand totheleftof guitar\"],\n",
    "    [\"pan infrontof stove\", \"spatula totherightof stove\", \"cutting board totheleftof stove\"],\n",
    "    [\"helmet infrontof armor\", \"sword totherightof helmet\", \"shield totheleftof armor\"],\n",
    "    [\"camera infrontof tripod\", \"lens totherightof camera\", \"flash totheleftof camera\"],\n",
    "    [\"tree infrontof bench\", \"bench totherightof tree\", \"fountain totheleftof bench\"],\n",
    "    [\"basketball infrontof hoop\", \"hoop totherightof scoreboard\", \"scoreboard totheleftof bleachers\"],\n",
    "    [\"train infrontof station\", \"track totherightof train\", \"ticket booth totheleftof station\"],\n",
    "    [\"painting infrontof easel\", \"paintbrush totherightof painting\", \"palette totheleftof easel\"],\n",
    "    [\"fish tank infrontof filter\", \"filter totherightof fish tank\", \"air pump totheleftof filter\"]\n",
    "]\n",
    "\n",
    "for relations in test_cases_coordinates:\n",
    "    print(grid_placement_assistant.process_request(relations))\n",
    "    print(\"\\n\" + \"-\"*20)"
   ]
  },
  {
   "cell_type": "code",
   "execution_count": 10,
   "id": "b4b4019c",
   "metadata": {},
   "outputs": [
    {
     "name": "stdout",
     "output_type": "stream",
     "text": [
      "--- Test 1 ---\n",
      ". . . . . . . . . . . . . . . . . . . . \n",
      ". . . . . . . . . . . . . . . . . . . . \n",
      ". . . . . . . . . . . . . . . . . . . . \n",
      ". . . . . . . . . . . . . . . . . . . . \n",
      ". . . . . . . . . . . . . . . . . . . . \n",
      ". . . . . . . . . . . . . . . . . . . . \n",
      ". . . . . . . . . . . . . . . . . . . . \n",
      ". . . . . . . . . . . . . . . . . . . . \n",
      ". . . . . . . . . . . . S . . . . . . . \n",
      ". . . . . . . . . . . . . . . . . . . . \n",
      ". . . . . . . . . . . . . B . B . . . . \n",
      ". . . . . . . . . . H . . . . . . . . . \n",
      ". . . . . . . . . . . . . . . . . . . . \n",
      ". . . . . . . . . . . . . . . . . . . . \n",
      ". . . . . . . . . . . . . . . . . . . . \n",
      ". . . . . . . . . . . . . . . . . . . . \n",
      ". . . . . . . . . . . . . . . . . . . . \n",
      ". . . . . . . . . . . . . . . . . . . . \n",
      ". . . . . . . . . . . . . . . . . . . . \n",
      ". . . . . . . . . . . . . . . . . . . . \n",
      "--- Test 2 ---\n",
      ". . . . . . . . . . . . . . . . . . . . \n",
      ". . . . . . . . . . . . . . . . . . . . \n",
      ". . . . . . . . . . . . . . . . . . . . \n",
      ". . . . . . . . . . . . . . . . . . . . \n",
      ". . . . . . . . . . . . . . . . . . . . \n",
      ". . . . . . . . . . . . . . . . . . . . \n",
      ". . . . . . . . . . . . . . . . . . . . \n",
      ". . . . . . . . . . . . . . . . . . . . \n",
      ". . . . . . . . . . . . . . . . . . . . \n",
      ". . . . . . . . . . . . . . . . . . . . \n",
      ". . . . . . . . . . T . . . . S . . . . \n",
      ". . . . . . . . . . . . . . . . . . . . \n",
      ". . . . . . . . . . . . . . . . . . . . \n",
      ". . . . . . . . . . . . . . . . . . . . \n",
      ". . . . . . . . . . . . . . . . . . . . \n",
      ". . . . . . . . . . T . . . . T . . . . \n",
      ". . . . . . . . . . . . . . . . . . . . \n",
      ". . . . . . . . . . . . . . . . . . . . \n",
      ". . . . . . . . . . . . . . . . . . . . \n",
      ". . . . . . . . . . . . . . . . . . . . \n",
      "--- Test 3 ---\n",
      "Warning: Cell (10,5) already occupied by painting. Cannot place pallet.\n",
      ". . . . . . . . . . . . . . . . . . . . \n",
      ". . . . . . . . . . . . . . . . . . . . \n",
      ". . . . . . . . . . . . . . . . . . . . \n",
      ". . . . . . . . . . . . . . . . . . . . \n",
      ". . . . . . . . . . . . . . . . . . . . \n",
      ". . . . . . . . . . P P . . . . . . . . \n",
      ". . . . . . . . . . . . . . . . . . . . \n",
      ". . . . . . . . . . . . . . . . . . . . \n",
      ". . . . . . . . . . . . . . . . . . . . \n",
      ". . . . . . . . . . . . . . . . . . . . \n",
      ". . . . . E . . . . . . . . . . . . . . \n",
      ". . . . . . . . . . . . . . . . . . . . \n",
      ". . . . . . . . . . . . . . . . . . . . \n",
      ". . . . . . . . . . . . . . . . . . . . \n",
      ". . . . . . . . . . . . . . . . . . . . \n",
      ". . . . . . . . . . . . . . . . . . . . \n",
      ". . . . . . . . . . . . . . . . . . . . \n",
      ". . . . . . . . . . . . . . . . . . . . \n",
      ". . . . . . . . . . . . . . . . . . . . \n",
      ". . . . . . . . . . . . . . . . . . . . \n",
      "--- Test 4 ---\n",
      ". . . . . . . . . . . . . . . . . . . . \n",
      ". . . . . . . . . . . . . . . . . . . . \n",
      ". . . . . . . . . . . . . . . . . . . . \n",
      ". . . . . . . . . . . . . . . . . . . . \n",
      ". . . . . . . . . . . . . . . . . . . . \n",
      ". . . . . . . . . . . . . . . . . . . . \n",
      ". . . . . . . . . . . . . . . . . . . . \n",
      ". . . . . . . . . . . . . . . . . . . . \n",
      ". . . . . . . . . . . . . . . . . . . . \n",
      ". . . . . . . . . . . . . . . . . . . . \n",
      ". . . . . . . . . A F . . . . . . . . . \n",
      ". . . . . . . . . . F . . . . . . . . . \n",
      ". . . . . . . . . . . . . . . . . . . . \n",
      ". . . . . . . . . . . . . . . . . . . . \n",
      ". . . . . . . . . . . . . . . . . . . . \n",
      ". . . . . . . . . . . . . . . . . . . . \n",
      ". . . . . . . . . . . . . . . . . . . . \n",
      ". . . . . . . . . . . . . . . . . . . . \n",
      ". . . . . . . . . . . . . . . . . . . . \n",
      ". . . . . . . . . . . . . . . . . . . . \n"
     ]
    }
   ],
   "source": [
    "test_cases_coordinates = [\n",
    "    \"basketball (15, 10), hoop (10, 11), scoreboard (12, 8), bleachers (13, 10)\",\n",
    "    \"train (15, 15), station (15, 10), track (10, 15), ticket booth (10, 10)\",\n",
    "    \"painting (10, 5), easel (5, 10), paintbrush (11, 5), pallet (10, 5)\",\n",
    "    \"fish tank (10, 10), filter (10, 11), air pump (9, 10)\"\n",
    "]\n",
    "\n",
    "for idx, coord_output in enumerate(test_cases_coordinates):\n",
    "    print(f\"--- Test {idx+1} ---\")\n",
    "    \n",
    "    obj_coords = parse_coordinates(coord_output)\n",
    "    grid = place_objects_on_grid(obj_coords, grid_size=20)\n",
    "    print_grid(grid)\n"
   ]
  }
 ],
 "metadata": {
  "kernelspec": {
   "display_name": "Python 3",
   "language": "python",
   "name": "python3"
  },
  "language_info": {
   "codemirror_mode": {
    "name": "ipython",
    "version": 3
   },
   "file_extension": ".py",
   "mimetype": "text/x-python",
   "name": "python",
   "nbconvert_exporter": "python",
   "pygments_lexer": "ipython3",
   "version": "3.10.6"
  }
 },
 "nbformat": 4,
 "nbformat_minor": 5
}
